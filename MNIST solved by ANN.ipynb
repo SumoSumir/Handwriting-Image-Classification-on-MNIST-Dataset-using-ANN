{
 "cells": [
  {
   "cell_type": "code",
   "execution_count": 19,
   "metadata": {},
   "outputs": [],
   "source": [
    "import numpy as np\n",
    "import tensorflow as tf\n",
    "import tensorflow.keras as keras\n",
    "import matplotlib.pyplot as plt\n",
    "import random\n",
    "import warnings\n",
    "warnings.filterwarnings('ignore')\n",
    "warnings.simplefilter('ignore')"
   ]
  },
  {
   "cell_type": "code",
   "execution_count": 2,
   "metadata": {},
   "outputs": [],
   "source": [
    "# MNIST digits classification dataset\n",
    "# This is a dataset of 60,000 28x28 grayscale images of the 10 digits, along \n",
    "# with a test set of 10,000. More info at http://yann.lecun.com/exdb/mnist/\n",
    "# and about the keras ref https://keras.io/api/datasets/mnist/\n",
    "# path: path where to cache the dataset locally (relative to ~/.keras/datasets).\n",
    "# Loads the MNIST dataset.\n",
    "(X_train , y_train), (X_test  , y_test)=tf.keras.datasets.mnist.load_data(\n",
    "    path='mnist.npz')\n",
    "# It return Tuple of Numpy arrays: (x_train, y_train), (x_test, y_test)."
   ]
  },
  {
   "cell_type": "code",
   "execution_count": 3,
   "metadata": {},
   "outputs": [],
   "source": [
    "X_train=X_train/255\n",
    "X_test=X_test/255\n",
    "X_train=X_train.reshape(-1,28,28,1)\n",
    "X_test=X_test.reshape(-1,28,28,1)\n",
    "y_train=tf.keras.utils.to_categorical(y_train)\n",
    "y_test=tf.keras.utils.to_categorical(y_test)"
   ]
  },
  {
   "cell_type": "code",
   "execution_count": 4,
   "metadata": {},
   "outputs": [
    {
     "name": "stdout",
     "output_type": "stream",
     "text": [
      "(10000, 28, 28, 1) (10000, 10)\n"
     ]
    }
   ],
   "source": [
    "print(np.shape(X_test),np.shape(y_test))"
   ]
  },
  {
   "cell_type": "code",
   "execution_count": 5,
   "metadata": {},
   "outputs": [],
   "source": [
    "ann = tf.keras.models.Sequential()"
   ]
  },
  {
   "cell_type": "code",
   "execution_count": 18,
   "metadata": {},
   "outputs": [],
   "source": [
    "ann.add(tf.keras.layers.Dense(units=28, activation ='relu',\n",
    "input_shape=(28,28,1)))\n",
    "ann.add(tf.keras.layers.Conv2D(14,(3,3)))\n",
    "ann.add(tf.keras.layers.MaxPool2D((3,3),1))\n",
    "ann.add(tf.keras.layers.Flatten())\n",
    "ann.add(tf.keras.layers.Dense(units=14, activation ='relu'))\n",
    "ann.add(tf.keras.layers.Dense(units=10, activation='softmax'))"
   ]
  },
  {
   "cell_type": "code",
   "execution_count": 7,
   "metadata": {},
   "outputs": [],
   "source": [
    "optimizer = keras.optimizers.Adam(learning_rate= 0.001)\n",
    "callback = tf.keras.callbacks.EarlyStopping(monitor='val_acc', patience=4)\n",
    "ann.compile(optimizer=optimizer,loss='categorical_crossentropy',\n",
    "    metrics = ['accuracy'])"
   ]
  },
  {
   "cell_type": "code",
   "execution_count": 8,
   "metadata": {},
   "outputs": [
    {
     "name": "stdout",
     "output_type": "stream",
     "text": [
      "Train on 48000 samples, validate on 12000 samples\n",
      "Epoch 1/100\n",
      "48000/48000 - 14s - loss: 0.1933 - acc: 0.9402 - val_loss: 0.0905 - val_acc: 0.9746\n",
      "Epoch 2/100\n",
      "48000/48000 - 15s - loss: 0.0825 - acc: 0.9753 - val_loss: 0.0867 - val_acc: 0.9757\n",
      "Epoch 3/100\n",
      "48000/48000 - 15s - loss: 0.0647 - acc: 0.9800 - val_loss: 0.0838 - val_acc: 0.9753\n",
      "Epoch 4/100\n",
      "48000/48000 - 14s - loss: 0.0519 - acc: 0.9837 - val_loss: 0.0765 - val_acc: 0.9795\n",
      "Epoch 5/100\n",
      "48000/48000 - 14s - loss: 0.0430 - acc: 0.9861 - val_loss: 0.0997 - val_acc: 0.9733\n",
      "Epoch 6/100\n",
      "48000/48000 - 14s - loss: 0.0354 - acc: 0.9886 - val_loss: 0.0786 - val_acc: 0.9787\n",
      "Epoch 7/100\n",
      "48000/48000 - 14s - loss: 0.0296 - acc: 0.9903 - val_loss: 0.0819 - val_acc: 0.9788\n",
      "Epoch 8/100\n",
      "48000/48000 - 14s - loss: 0.0272 - acc: 0.9912 - val_loss: 0.0761 - val_acc: 0.9793\n"
     ]
    },
    {
     "data": {
      "text/plain": [
       "<tensorflow.python.keras.callbacks.History at 0x253b1fe25c0>"
      ]
     },
     "execution_count": 8,
     "metadata": {},
     "output_type": "execute_result"
    }
   ],
   "source": [
    "ann.fit(X_train,y_train,validation_split=0.2,batch_size=16,verbose=2,\n",
    "    shuffle=True,epochs=100,callbacks=[callback])"
   ]
  },
  {
   "cell_type": "code",
   "execution_count": 20,
   "metadata": {},
   "outputs": [
    {
     "name": "stdout",
     "output_type": "stream",
     "text": [
      "10000/10000 - 1s - loss: 0.0739 - acc: 0.9807\n",
      "\n",
      "Test accuracy: 98.07000160217285\n"
     ]
    }
   ],
   "source": [
    "test_loss, test_acc = ann.evaluate(X_test, y_test, verbose=2)\n",
    "print('\\nTest accuracy:', test_acc*100)"
   ]
  },
  {
   "cell_type": "code",
   "execution_count": 25,
   "metadata": {},
   "outputs": [
    {
     "data": {
      "image/png": "[encoded data removed]",
      "text/plain": [
       "<Figure size 432x288 with 1 Axes>"
      ]
     },
     "metadata": {
      "needs_background": "light"
     },
     "output_type": "display_data"
    },
    {
     "name": "stdout",
     "output_type": "stream",
     "text": [
      "Correct Prediction \n",
      "Output is: 8\n"
     ]
    }
   ],
   "source": [
    "index=random.randint(0,len(X_test))\n",
    "plt.title(\"Record number:\"+str(index))\n",
    "plt.imshow(X_test[index],cmap='gray')\n",
    "plt.show()\n",
    "randomTest=np.reshape(X_test[index],(1,28,28,1))\n",
    "predOp=ann.predict(randomTest)\n",
    "if np.argmax(predOp)==np.argmax(y_test[index]):\n",
    "    print(\"Correct Prediction \\nOutput is:\",np.argmax(predOp))\n",
    "else:\n",
    "    print(\"Incorrect Prediction \\nPreddicted Output is:\",np.argmax(predOp),\n",
    "    \"\\nActual Output is \",np.argmax(y_test[index]))\n",
    "\n"
   ]
  }
 ],
 "metadata": {
  "interpreter": {
   "hash": "7af7b9d2499bd3bbc267a68f2f7f6955264b082a951bdf13a72ca3b4add5a3be"
  },
  "kernelspec": {
   "display_name": "Python 3",
   "language": "python",
   "name": "python3"
  },
  "language_info": {
   "codemirror_mode": {
    "name": "ipython",
    "version": 3
   },
   "file_extension": ".py",
   "mimetype": "text/x-python",
   "name": "python",
   "nbconvert_exporter": "python",
   "pygments_lexer": "ipython3",
   "version": "3.6.8"
  }
 },
 "nbformat": 4,
 "nbformat_minor": 2
}
